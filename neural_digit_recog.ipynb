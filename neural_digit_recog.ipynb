{
  "nbformat": 4,
  "nbformat_minor": 0,
  "metadata": {
    "colab": {
      "name": "neural_digit_recog.ipynb",
      "version": "0.3.2",
      "provenance": [],
      "collapsed_sections": []
    },
    "kernelspec": {
      "name": "python3",
      "display_name": "Python 3"
    }
  },
  "cells": [
    {
      "cell_type": "code",
      "metadata": {
        "id": "zapfwDWDXLRL",
        "colab_type": "code",
        "colab": {}
      },
      "source": [
        "import pandas as pd\n",
        "import numpy as np\n",
        "import tensorflow as tf\n",
        "import matplotlib.pyplot as plt\n",
        "train = pd.DataFrame(pd.read_csv(\"sample_data/mnist_train_small.csv\"))"
      ],
      "execution_count": 0,
      "outputs": []
    },
    {
      "cell_type": "code",
      "metadata": {
        "id": "Qez8joTOXN6y",
        "colab_type": "code",
        "colab": {}
      },
      "source": [
        "testImage = np.reshape(np.array(train.iloc[29][1:]),[28,28])"
      ],
      "execution_count": 0,
      "outputs": []
    },
    {
      "cell_type": "code",
      "metadata": {
        "id": "7j-P4OQvXQoV",
        "colab_type": "code",
        "outputId": "477f1d94-16f4-4100-867d-909e94e4ff41",
        "colab": {
          "base_uri": "https://localhost:8080/",
          "height": 286
        }
      },
      "source": [
        "plt.imshow(testImage)"
      ],
      "execution_count": 0,
      "outputs": [
        {
          "output_type": "execute_result",
          "data": {
            "text/plain": [
              "<matplotlib.image.AxesImage at 0x7f2d8c82f0b8>"
            ]
          },
          "metadata": {
            "tags": []
          },
          "execution_count": 15
        },
        {
          "output_type": "display_data",
          "data": {
            "image/png": "[encoded data removed]",
            "text/plain": [
              "<Figure size 432x288 with 1 Axes>"
            ]
          },
          "metadata": {
            "tags": []
          }
        }
      ]
    },
    {
      "cell_type": "code",
      "metadata": {
        "id": "LoVoi50pXS7e",
        "colab_type": "code",
        "colab": {}
      },
      "source": [
        "Y = train['6']\n",
        "X = train.drop(['6'],axis = 1).copy()"
      ],
      "execution_count": 0,
      "outputs": []
    },
    {
      "cell_type": "code",
      "metadata": {
        "id": "GrzA7IsoXXUo",
        "colab_type": "code",
        "outputId": "8dde1017-57ec-430a-9390-1ff0fdbe9bea",
        "colab": {
          "base_uri": "https://localhost:8080/",
          "height": 139
        }
      },
      "source": [
        "#Making Label vector One-Hot Encoded\n",
        "\n",
        "def convOneHot(num):\n",
        "  tempList = [0]*10\n",
        "  tempList[num] = 1\n",
        "  return tempList\n",
        "\n",
        "OneHotEncodedData = []\n",
        "\n",
        "for i in range(len(Y)):\n",
        "  OneHotEncodedData.append(convOneHot(Y.iloc[i]))\n",
        "OneHotEncodedData = np.array(OneHotEncodedData)\n",
        "Y = OneHotEncodedData\n",
        "print(OneHotEncodedData)"
      ],
      "execution_count": 0,
      "outputs": [
        {
          "output_type": "stream",
          "text": [
            "[[0 0 0 ... 0 0 0]\n",
            " [0 0 0 ... 1 0 0]\n",
            " [0 0 0 ... 0 0 1]\n",
            " ...\n",
            " [0 0 1 ... 0 0 0]\n",
            " [0 0 0 ... 0 0 1]\n",
            " [0 0 0 ... 0 0 0]]\n"
          ],
          "name": "stdout"
        }
      ]
    },
    {
      "cell_type": "code",
      "metadata": {
        "id": "pr3_L0r0Xbuj",
        "colab_type": "code",
        "outputId": "f5292ab5-0bc8-4b39-fd08-5a20166f0817",
        "colab": {
          "base_uri": "https://localhost:8080/",
          "height": 34
        }
      },
      "source": [
        "inpShape = list(X.shape)\n",
        "labelsShape = list(OneHotEncodedData.shape)\n",
        "featureLen = len(X.T)\n",
        "\n",
        "print(inpShape)"
      ],
      "execution_count": 0,
      "outputs": [
        {
          "output_type": "stream",
          "text": [
            "[19999, 784]\n"
          ],
          "name": "stdout"
        }
      ]
    },
    {
      "cell_type": "code",
      "metadata": {
        "id": "dWcWeX3JXet_",
        "colab_type": "code",
        "colab": {}
      },
      "source": [
        "#Making placeholder rooms\n",
        "tfData = tf.placeholder(tf.float64,[None,784])\n",
        "tfLabels = tf.placeholder(tf.float64,[None,10])\n",
        "\n",
        "#Making variable rooms\n",
        "factor = 100\n",
        "W1 = tf.Variable(np.random.randn(featureLen,featureLen)/factor)\n",
        "W1Out = tf.nn.relu(tf.matmul(tfData,W1))\n",
        "W2 = tf.Variable(np.random.randn(featureLen,featureLen)/factor)\n",
        "W2Out = tf.nn.relu(tf.matmul(W1Out,W2))\n",
        "W3 = tf.Variable(np.random.randn(featureLen,featureLen)/factor)\n",
        "W3Out = tf.nn.relu(tf.matmul(W2Out,W3))\n",
        "OPWeights = tf.Variable(np.random.randn(featureLen,10)/factor)\n",
        "OP = tf.nn.sigmoid((tf.matmul(W3Out,OPWeights)))"
      ],
      "execution_count": 0,
      "outputs": []
    },
    {
      "cell_type": "code",
      "metadata": {
        "id": "ngloRbd8Xjax",
        "colab_type": "code",
        "colab": {}
      },
      "source": [
        "CostFunctionError = tf.reduce_mean(tf.square(OP-tfLabels))\n",
        "Optimizer = tf.train.GradientDescentOptimizer(learning_rate = 0.1)\n",
        "Minimizer = Optimizer.minimize(CostFunctionError)\n",
        "Init = tf.global_variables_initializer()\n"
      ],
      "execution_count": 0,
      "outputs": []
    },
    {
      "cell_type": "code",
      "metadata": {
        "id": "vTc1Tb3OXmWS",
        "colab_type": "code",
        "outputId": "ae64efa6-40d8-4b44-c47b-5cfa641ce352",
        "colab": {
          "base_uri": "https://localhost:8080/",
          "height": 270
        }
      },
      "source": [
        "from IPython.display import clear_output\n",
        "\n",
        "Batch_Size = 1000\n",
        "with tf.Session() as S:\n",
        "  iterations = 200\n",
        "  S.run(Init)\n",
        "  error = []\n",
        "  for i in range(iterations):\n",
        "    RandomIndices = np.random.randint(0,len(X),size = Batch_Size)\n",
        "    Data2Feed = {tfData:np.array(pd.DataFrame(X).iloc[RandomIndices]).reshape(Batch_Size,featureLen),\n",
        "                tfLabels:np.array(pd.DataFrame(Y).iloc[RandomIndices]).reshape(Batch_Size,10)}\n",
        "    S.run(Minimizer,feed_dict = Data2Feed)\n",
        "    CE = S.run([CostFunctionError],feed_dict = Data2Feed)\n",
        "    print(\"Current Cost: \",CE,\" Current Iteration: \",i)\n",
        "    error.append(CE)\n",
        "    clear_output(True)\n",
        "  TW = S.run([W1,W2,W3,OPWeights])\n",
        "  plt.plot(error)"
      ],
      "execution_count": 0,
      "outputs": [
        {
          "output_type": "display_data",
          "data": {
            "image/png": "[encoded data removed]",
            "text/plain": [
              "<Figure size 432x288 with 1 Axes>"
            ]
          },
          "metadata": {
            "tags": []
          }
        }
      ]
    },
    {
      "cell_type": "code",
      "metadata": {
        "id": "lec8tX1zXpcU",
        "colab_type": "code",
        "outputId": "615616c1-3e32-43ad-ba6b-ef0fa0248a31",
        "colab": {
          "base_uri": "https://localhost:8080/",
          "height": 34
        }
      },
      "source": [
        "test = pd.DataFrame(pd.read_csv(\"sample_data/mnist_test.csv\"))\n",
        "testY = test['7']\n",
        "testX = test.drop(['7'],axis = 1).copy()\n",
        "def ReLU(x):\n",
        "    return x * (x > 0)\n",
        "def sigmoid(x):\n",
        "  return 1/(1+np.exp(-x))\n",
        "W1Out = ReLU(np.dot(testX,TW[0]))\n",
        "W2Out = ReLU(np.dot(W1Out,TW[1]))\n",
        "W3Out = ReLU(np.dot(W2Out,TW[2]))\n",
        "FinalOut = sigmoid(np.dot(W3Out,TW[3]))\n",
        "\n",
        "finalAns = []\n",
        "for i in range(0,len(testX)):\n",
        "   finalAns.append(np.argmax(FinalOut[i]))\n",
        "    \n",
        "finalAns = np.array(finalAns)\n",
        "from sklearn.metrics import accuracy_score\n",
        "print(accuracy_score(finalAns,testY)*100,\" %\")\n"
      ],
      "execution_count": 0,
      "outputs": [
        {
          "output_type": "stream",
          "text": [
            "91.15911591159116  %\n"
          ],
          "name": "stdout"
        }
      ]
    },
    {
      "cell_type": "code",
      "metadata": {
        "id": "5hWKX1Z0X1aj",
        "colab_type": "code",
        "colab": {}
      },
      "source": [
        ""
      ],
      "execution_count": 0,
      "outputs": []
    }
  ]
}